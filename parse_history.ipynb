{
 "cells": [
  {
   "cell_type": "code",
   "execution_count": 7,
   "metadata": {},
   "outputs": [],
   "source": [
    "import json\n",
    "\n",
    "from bs4 import BeautifulSoup\n",
    "import urllib\n",
    "import nltk"
   ]
  },
  {
   "cell_type": "code",
   "execution_count": 2,
   "metadata": {},
   "outputs": [
    {
     "name": "stdout",
     "output_type": "stream",
     "text": [
      "showing info https://raw.githubusercontent.com/nltk/nltk_data/gh-pages/index.xml\n"
     ]
    },
    {
     "data": {
      "text/plain": [
       "True"
      ]
     },
     "execution_count": 2,
     "metadata": {},
     "output_type": "execute_result"
    }
   ],
   "source": [
    "nltk.download()"
   ]
  },
  {
   "cell_type": "code",
   "execution_count": 17,
   "metadata": {
    "scrolled": false
   },
   "outputs": [],
   "source": [
    "# The number in the brackets ([]), indicates the number of records to process. \n",
    "# Change the number for a larger sample size. \n",
    "title_dict = {}\n",
    "with open('history.json') as json_data:\n",
    "    d = json.load(json_data)\n",
    "    for entry in d[:500]:\n",
    "        if entry['title'] != '':\n",
    "            if entry['url'] not in title_dict:\n",
    "                title_dict[entry['url']] = entry['title']\n",
    "        else:\n",
    "            try:\n",
    "                r = urllib.urlopen(entry['url']).read()\n",
    "                soup = BeautifulSoup(r)\n",
    "                title_dict[entry['url']] = soup.title.string\n",
    "            except: \n",
    "                pass"
   ]
  },
  {
   "cell_type": "code",
   "execution_count": 18,
   "metadata": {},
   "outputs": [
    {
     "data": {
      "text/plain": [
       "dict_values(['ipython - Unable to set up Jupyter Notebook - Stack Overflow', \"Syria war: US launches missile strikes in response to 'chemical attack' - BBC News\", 'Forms & Brochures', '1099HC+2017+Sample+Form.pdf', 'Google Calendar - Week of Apr 2, 2017', 'Online Ticket Sales', 'Massachusetts Health Insurance | Blue Cross Blue Shield MA', 'Solved: Re: How to export browser history? - Mozilla Support Community', 'mit payroll contact - Google Search', 'Lily Bui - That time I was in a documentary about New England...', 'Can Chrome browser history be exported to an HTML file? - Super User', '(1) Haley Nesmith - Moments on walls, campgrounds and buses in Yosemite', 'MIT Outing Club', 'modified knn slider text · cesandoval/PaintingWithData_Riyadh@44ac87a', 'Google Maps', 'REMINDER! Dept. of Architecture CPW events/April 6 & 7 - ce.sandoval09@gmail.com - Gmail', 'Search results - ce.sandoval09@gmail.com - Gmail', 'MIT WebSIS: For Students', 'MZHistoryView: View the list of visited web sites in Firefox/Mozilla/Netscape browsers', 'Contributors to cesandoval/PaintingWithData_Riyadh', 'ACT Monday Workshop - ce.sandoval09@gmail.com - Gmail', 'Dropbox (MIT)/', 'Outlook', 'Messenger', 'Student Health Plans | MIT Medical', 'Backup Or Export Google Chrome History To CSV Excel, Text Or HTML', 'export browsing history firefox - Google Search', 'Visit Autodesk FabLab? - ce.sandoval09@gmail.com - Gmail', 'How to Export browsing history in Safari. | Official Apple Support Communities', 'Inbox - ce.sandoval09@gmail.com - Gmail', '1099-hc mit - Google Search', 'export history :: Search :: Add-ons for Firefox', 'Me First And The Gimme Gimmes - Home', 'Bank of America — Banking, Credit Cards, Mortgages and Auto Loans', 'Jupyter Notebook', '\"MIT\" - ce.sandoval09@gmail.com - Gmail', 'download history :: Search :: Add-ons for Firefox', 'save browsing history firefox - Google Search', 'Update Security Question Page', 'Export your browsing history before you delete it - gHacks Tech News', 'Engagement Window', 'Forbes Welcome', 'Form History Control :: Add-ons for Firefox', 'python - Jupyter notebook command does not work on Mac - Stack Overflow', '986496045.pdf', 'Community Commons', 'TurboTax® Tax Preparation Software, FREE Tax Filing, Efile Taxes, Income Tax Returns', 'Stockholm Sweden - Facebook Search', 'Solved: Re: How to export browser history? - Mozilla Support Community', 'Sign off Page', 'Banking with Citi | Citi.com', 'Haley Nesmith', 'MIT CoLab Spring Newsletter - ce.sandoval09@gmail.com - Gmail', '(1) Carlos Emilio Sandoval Olascoaga', 'Dropbox (MIT)/Workshops_2/17.Spring ACT/', 'Contact Us', 'Pia Somar - H E E L S #girl #legs #me #tagsforlikes #esloquehay...', 'Black Diamond Carabiner Recall - Black Diamond Warranty', 'Drafts (57) - ce.sandoval09@gmail.com - Gmail', 'Your Followers', 'Forbes Welcome', 'Installing NLTK Data — NLTK 3.0 documentation', 'deck.gl', 'https://atlas.mit.edu/atlas/Main.action?tab=home', 'Banking with Citi | Citi.com', 'Google Maps', 'Home', 'Online Ticket Sales', '(1) Just kidding. Last (?) Ice climbing trip of the... - Carlos Emilio Sandoval Olascoaga', 'Blue Cross Blue Shield of Massachusetts Message View', 'How To: Export and save your browsing history', 'database - How to open this .DB file? - Stack Overflow', '(1) Messenger', '-bash: jupyter: command not found - Google Search', 'Sent Mail - ce.sandoval09@gmail.com - Gmail', 'How-To: Save and Restore Your Browsing History in Firefox', 'Download Complete | iExplorer | Macroplant', 'Continue', 'TurboTax® Tax Preparation Software, FREE Tax Filing, Efile Taxes, Income Tax Returns', '617-253-4255 - Google Search', 'MITOC Climbing Ride @ 0600 Tomorrow - ce.sandoval09@gmail.com - Gmail', 'Connie Bee', 'Banking with Citi | Citi.com', 'Download Anaconda Now! | Continuum', 'Forms & Brochures', 'Online Ticket Sales', 'clara hungr - Google Search', 'History Export Saves History As HTML, JSON, XML Or Text File [Firefox]', 'After Summiting Mt. Everest, He Returned Home to Face His Demons', '617-253-4255 dial - Google Search', 'Kevin Jorgeson & Ben Rueck Make First Free Ascent of the West Face of Sentinel', 'image05.jpg (1500×952)', '\"MIT\" - ce.sandoval09@gmail.com - Gmail', 'Data Explorer Aggregates Layers with Same Attribute Name · Issue #65 · cesandoval/PaintingWithData_Riyadh', 'Contact Us- Banking and Personal Loans - Citibank', 'Safari Browsing History (Mac) | Forensic Artifacts', 'Automattic/kue: Kue is a priority job queue backed by redis, built for node.js.', 'Bank of America | Online Banking | SIGN OFF', 'Google Calendar - Week of Apr 9, 2017', 'Export History - Chrome Web Store', 'Online Ticket Sales', '\"Berkeley\" (1) - ce.sandoval09@gmail.com - Gmail', 'Settings for privacy, browsing history and do-not-... - Mozilla Support Community', 'pemn (Paulo Ernesto)', \"Your TurboTax account: We've updated your info - ce.sandoval09@gmail.com - Gmail\", '[eh-open] FW: Emailing Dorms for Mass CPR - ce.sandoval09@gmail.com - Gmail', 'Painting with Data', '407 Washington St - Google Search', '42.3604333, -71.0978897 to 407 Washington St, Cambridge, MA 02139 - Google Maps', 'Kristen Henderson', 'Josh Smalley', 'Thank you for purchasing tickets online! - ce.sandoval09@gmail.com - Gmail', 'how to backup, export & import browser history? - Mozilla Support Community', '3. Running the Jupyter Notebook — Jupyter/IPython Notebook Quick Start Guide 0.1 documentation', 'deck.gl', 'Confirmation of your Citi® Online activity - ce.sandoval09@gmail.com - Gmail', 'Outlook', 'Issues · cesandoval/PaintingWithData_Riyadh', 'Gabriel Kaprielian', 'Announcement! \"List Projects: Kenneth Tam\" opening at the List Center - ce.sandoval09@gmail.com - Gmail', '(1) Haley Nesmith - Moments on walls, campgrounds and buses in Yosemite', 'parse_history.py (editing)', 'philipbelesky (Philip Belesky) / Repositories', 'What’s this new tax form? | MIT Medical', 'Job Opportunities | Office of Sustainability', 'gitignore - How do I ignore files in a directory in Git? - Stack Overflow', 'Watchers · cesandoval/PaintingWithData_Riyadh', '(1) Rawr! - Carlos Emilio Sandoval Olascoaga', 'Painting with Data Ready for Use in Riyadh? - ce.sandoval09@gmail.com - Gmail', 'Payments - Citibank', 'Payments - Citibank', 'Haley Nesmith - Moments on walls, campgrounds and buses in Yosemite', 'Find Username', 'Enjoy your Rock and Ice 240 Digital Edition! - ce.sandoval09@gmail.com - Gmail', 'Online Ticket Sales', 'Kiel Moe - Harvard Graduate School of Design', 'history export firefox - Google Search', 'Compare Credit Card Offers & Apply Online - Citi.com', 'History export & import - Mozilla Support Community', 'Thanks for choosing Bank of America. We look forward to serving you again soon.', 'Stargazers · ksteinfe/decodes', 'Open Sourcing deck.gl 4.0: Uber Engineering’s Framework for Advanced Data Visualization - Uber Engineering Blog', 'Payroll | MIT VPF', '[ISO] Please Attend 4/13 Community Briefing on Immigration Laws and Policies - ce.sandoval09@gmail.com - Gmail', 'Online Ticket Sales', 'Rideshare-Rumney 2017-04-09 - Google Sheets', 'Update: Horowitz Award Check - ce.sandoval09@gmail.com - Gmail', 'Visualize Data Sets on the Web with Uber Engineering’s deck.gl Framework - Uber Engineering Blog', 'MIT Climbing Wall', 'Me First and the Gimme Gimmes - Boston Concert Tickets - Me First and the Gimme Gimmes Royale Tickets - April 19, 2017 | Bandsintown', 'Facebook', 'Warm ice. Ice climbing season. #MITOC - Carlos Emilio Sandoval Olascoaga', 'Git - gitignore Documentation', 'Anaconda package list | Continuum Analytics: Documentation', 'Markdown Cheatsheet · adam-p/markdown-here Wiki', 'Bank of America | Online Banking | Accounts | Account Details | Information and Services', 'Redpoint Bouldering Gym Mexico - Posts', 'Kiel Moe | Harvard University Center for the Environment', 'Sign Off Offers - Citibank', 'Contact Us | MIT VPF', 'Abhishek Agarwal', 'Commits · cesandoval/PaintingWithData_Riyadh', 'clara hungr mit - Google Search', 'CREDIT CARD - chase.com', 'BCBSMA Confirmation #1929106APR17 - ce.sandoval09@gmail.com - Gmail', \"How do I print Safari's browsing history? | Official Apple Support Communities\", 'Your Repositories', 'mit payroll - Google Search', 'Fwd: Two Pieces by Bjorn Sparrman at Yve YANG Gallery\\xa0 - ce.sandoval09@gmail.com - Gmail', 'Last ice climbing trip of the season! - Carlos Emilio Sandoval Olascoaga', 'Online Ticket Sales', 'Just kidding. Last (?) Ice climbing trip of the... - Carlos Emilio Sandoval Olascoaga', 'Chasing the last ice of the season. Mt.... - Carlos Emilio Sandoval Olascoaga', 'Chase Bank - Credit Card, Mortgage, Auto, Banking Services', 'Official Notice: Taxes due April 18. Finish today! - ce.sandoval09@gmail.com - Gmail', 'Venmo | Patty Bolan', 'Watchers · ksteinfe/decodes', 'Me First and the Gimme Gimmes tickets in Boston at Royale on Wed, Apr 19, 2017 - 8:00PM', 'Meetin on Wednesday - ce.sandoval09@gmail.com - Gmail', '617-253-5979 dial - Google Search', 'Climbing at Rumney on Sunday April 9. - ce.sandoval09@gmail.com - Gmail', 'Carlos Emilio Sandoval Olascoaga', 'Home', 'My TurboTax®', 'https://hashnode.com/post/what-message-queue-is-best-fit-for-a-nodejs-application-ciibz8fjk01c8j3xteummv48w', 'Kiel Moe - Wikipedia', 'Dropbox (MIT)/Workshops_2/', 'Katia Sobolski - Blending in #working', 'Online Ticket Sales', 'Redirect remote sso - no id exist', 'Student Engagement | MIT CoLab', 'aa citi card contact number - Google Search', 'Network Graph · ksteinfe/decodes', 'Lochie Ferrier | LinkedIn', 'windows xp - How do I export the Browsing History in Firefox? - Super User', '(1) Rawr! - Carlos Emilio Sandoval Olascoaga', 'Aplicaciones SSO (2017-2018) - ce.sandoval09@gmail.com - Gmail', 'Contact Us- Credit Cards - Citibank', 'student_enroll.pdf', 'Kiel Moe | LinkedIn', 'decod-es', 'Ice Climbing Season. Winter School. #MITOC #MIT - Carlos Emilio Sandoval Olascoaga', 'Bank of America | Online Banking | Accounts Overview', \"MIT Libraries' Catalog - Barton - Basic Search of Full Catalog\", 'Google Maps', 'Larisa Ovalles Paulino added a new photo. - Larisa Ovalles Paulino', '20.6. urllib2 — extensible library for opening URLs — Python 2.7.13 documentation', 'node.js - Is there a compelling reason to use an AMQP based server over something like beanstalkd or redis? - Stack Overflow', 'Where/How is Browser History Stored for Safari 8? | Official Apple Support Communities', 'Patty Bolan wants to be friends with you on Venmo - ce.sandoval09@gmail.com - Gmail', 'Luc Deckinga', 'My TurboTax® Login – Sign in to TurboTax to work on Your Tax Return', 'Forbes Welcome', 'TurboTax Online', 'Engagement Window', 'Messenger', 'Chase Online', 'Places to CSV :: Add-ons for Firefox', 'Addon to save browsing history firefox | Wilders Security Forums', 'ATLAS - Navigating Your MIT World', 'Outlook', 'My location to 407 Washington St, Cambridge, MA 02139 - Google Maps', 'Blue Cross Blue Shield of Massachusetts Registration', 'Home', 'Identification', \"Stockholm truck attack suspect 'known to security services' | World news | The Guardian\", 'pemn/decodes: a platform agnostic generative design library for 3d designers', 'Amazon.com Sign In', 'Online Ticket Sales', 'Export Safari Bookmarks & Browsing History from your iPhone or iPad | iExplorer | Macroplant', 'Notifications', 'Online Ticket Sales', 'Command not found: jupyter · Issue #2247 · jupyter/notebook', 'Print Confirmation', 'HR/Payroll Service Center | MIT VPF', 'More developer guide in README.md · Issue #70 · cesandoval/PaintingWithData_Riyadh', 'Facebook', 'New open access policy for all MIT authors of scholarly articles - ce.sandoval09@gmail.com - Gmail', 'export browsing history safari - Google Search', 'Faculty: Gabriel Kaprielian | Tyler School of Art', '617-253-5979 - Google Search', 'Forbes Welcome', 'Google Hangouts', 'PDS SSO', 'River Garden Documentary Screening - April 11 - ce.sandoval09@gmail.com - Gmail', 'David Migl', 'export history firefox - Google Search', 'stream Me First and the Gimme Gimmes’ new greatest hits album, ‘Rake It In’', 'Account Information - Citibank', 'Stargazers · cesandoval/PaintingWithData_Riyadh', '407 Washington St, Cambridge, MA - Google Search', 'Where to find and manage downloaded files in Firef... - Mozilla Support Community', '(1) Last ice climbing trip of the season! - Carlos Emilio Sandoval Olascoaga', 'Bank of America | Online Banking | Accounts | Account Details | Account Activity', 'Action sports, live events, and stories | Red Bull TV', 'Haley Nesmith', 'nltk download - Google Search', 'Online Ticket Sales', 'Kue is super unreliable. Any alternatives for message queues that actually work? : node', 'Citi® Credit Cards - Incorrect Information Entered', 'Fwd: Two proposals - ce.sandoval09@gmail.com - Gmail', 'WhatsApp Web', 'Me First And The Gimme Gimmes', 'history :: Search :: Add-ons for Firefox', 'ksteinfe/decodes: a platform agnostic generative design library for 3d designers', 'What is PATH? -- definition by The Linux Information Project (LINFO)', 'philipbelesky (Philip Belesky) / Repositories', 'deck.gl', 'decodes/LICENSE.txt at master · ksteinfe/decodes', 'BrowsingHistoryView 2.00 Free Download', '(16) Dave Hause - Bury Me In Philly - YouTube', 'Painting with Data', 'pcoords now supportsame property name, by adding the layername to the… · cesandoval/PaintingWithData_Riyadh@d2e9ffc', 'Painting with Data', 'Inbox - ce.sandoval09@gmail.com - Gmail', 'Gabriel Kaprielian', 'Messenger', 'cesandoval/PaintingWithData_Riyadh: Riyadh Implementation of Painting with Data', 'For Students | MIT Medical', 'Export History in Firefox? - Forums - CNET', 'Account Information - Citibank', 'https://atlas.mit.edu/atlas/Main.action?tab=aboutMe&sub=w2', 'Rename Nearest Neighborhoods to something intuitive for novice user · Issue #60 · cesandoval/PaintingWithData_Riyadh', 'Gabriel Kaprielian', 'pemn.github.io', \"Students' Contact Information - ce.sandoval09@gmail.com - Gmail\", 'Haley Nesmith - Moments on walls, campgrounds and buses in Yosemite', 'Painting with Data', 'Job Opportunities | Office of Sustainability', 'Register', 'Job Opportunities | Office of Sustainability', 'cesandoval (Carlos Sandoval Olascoaga)', 'Ignoring files - User Documentation', 'Register', 'Forbes Welcome', 'Home', 'Are You Graduating? | MIT Medical', 'Register', 'Katia Sobolski - Splash of color #architects', 'Get 2017 health coverage. Health Insurance Marketplace | HealthCare.gov', 'Online Ticket Sales', 'Register', 'Settings for privacy, browsing history and do-not-... - Mozilla Support Community', 'MIT School of Architecture + Planning - Posts', 'Norwell History Tools :: Add-ons for Firefox', 'https://atlas.mit.edu/atlas/Main.action?tab=home&sub=fullCatalog', 'On This Day'])"
      ]
     },
     "execution_count": 18,
     "metadata": {},
     "output_type": "execute_result"
    }
   ],
   "source": [
    "title_dict.values()"
   ]
  },
  {
   "cell_type": "code",
   "execution_count": 19,
   "metadata": {
    "scrolled": true
   },
   "outputs": [],
   "source": [
    "from os import listdir\n",
    "from os.path import isfile, join\n",
    "from nltk.corpus import stopwords\n",
    "\n",
    "from gensim import corpora, models, similarities\n",
    "import numpy as np\n",
    "\n",
    "import json\n",
    "import csv"
   ]
  },
  {
   "cell_type": "code",
   "execution_count": 22,
   "metadata": {},
   "outputs": [
    {
     "data": {
      "text/plain": [
       "[['ipython',\n",
       "  '-',\n",
       "  'unable',\n",
       "  'to',\n",
       "  'set',\n",
       "  'up',\n",
       "  'jupyter',\n",
       "  'notebook',\n",
       "  '-',\n",
       "  'stack',\n",
       "  'overflow'],\n",
       " ['messenger'],\n",
       " ['how',\n",
       "  'do',\n",
       "  'i',\n",
       "  'print',\n",
       "  \"safari's\",\n",
       "  'browsing',\n",
       "  'history?',\n",
       "  '|',\n",
       "  'official',\n",
       "  'apple',\n",
       "  'support',\n",
       "  'communities'],\n",
       " ['download', 'anaconda', 'now!', '|', 'continuum'],\n",
       " ['python',\n",
       "  '-',\n",
       "  'jupyter',\n",
       "  'notebook',\n",
       "  'command',\n",
       "  'does',\n",
       "  'not',\n",
       "  'work',\n",
       "  'on',\n",
       "  'mac',\n",
       "  '-',\n",
       "  'stack',\n",
       "  'overflow'],\n",
       " ['where/how',\n",
       "  'is',\n",
       "  'browser',\n",
       "  'history',\n",
       "  'stored',\n",
       "  'for',\n",
       "  'safari',\n",
       "  '8?',\n",
       "  '|',\n",
       "  'official',\n",
       "  'apple',\n",
       "  'support',\n",
       "  'communities'],\n",
       " ['banking', 'with', 'citi', '|', 'citi.com'],\n",
       " ['installing', 'nltk', 'data', '—', 'nltk', '3.0', 'documentation'],\n",
       " ['inbox', '-', 'ce.sandoval09@gmail.com', '-', 'gmail'],\n",
       " ['safari', 'browsing', 'history', '(mac)', '|', 'forensic', 'artifacts'],\n",
       " ['sign', 'off', 'offers', '-', 'citibank'],\n",
       " ['messenger'],\n",
       " ['how', 'to:', 'export', 'and', 'save', 'your', 'browsing', 'history'],\n",
       " ['drafts', '(57)', '-', 'ce.sandoval09@gmail.com', '-', 'gmail'],\n",
       " ['act', 'monday', 'workshop', '-', 'ce.sandoval09@gmail.com', '-', 'gmail'],\n",
       " ['dropbox', '(mit)/'],\n",
       " ['home'],\n",
       " ['dropbox', '(mit)/workshops_2/17.spring', 'act/'],\n",
       " ['20.6.',\n",
       "  'urllib2',\n",
       "  '—',\n",
       "  'extensible',\n",
       "  'library',\n",
       "  'for',\n",
       "  'opening',\n",
       "  'urls',\n",
       "  '—',\n",
       "  'python',\n",
       "  '2.7.13',\n",
       "  'documentation'],\n",
       " ['dropbox', '(mit)/workshops_2/'],\n",
       " ['command',\n",
       "  'not',\n",
       "  'found:',\n",
       "  'jupyter',\n",
       "  '·',\n",
       "  'issue',\n",
       "  '#2247',\n",
       "  '·',\n",
       "  'jupyter/notebook'],\n",
       " ['database',\n",
       "  '-',\n",
       "  'how',\n",
       "  'to',\n",
       "  'open',\n",
       "  'this',\n",
       "  '.db',\n",
       "  'file?',\n",
       "  '-',\n",
       "  'stack',\n",
       "  'overflow'],\n",
       " ['anaconda',\n",
       "  'package',\n",
       "  'list',\n",
       "  '|',\n",
       "  'continuum',\n",
       "  'analytics:',\n",
       "  'documentation'],\n",
       " ['3.',\n",
       "  'running',\n",
       "  'the',\n",
       "  'jupyter',\n",
       "  'notebook',\n",
       "  '—',\n",
       "  'jupyter/ipython',\n",
       "  'notebook',\n",
       "  'quick',\n",
       "  'start',\n",
       "  'guide',\n",
       "  '0.1',\n",
       "  'documentation'],\n",
       " ['sent', 'mail', '-', 'ce.sandoval09@gmail.com', '-', 'gmail'],\n",
       " ['jupyter', 'notebook'],\n",
       " ['confirmation',\n",
       "  'of',\n",
       "  'your',\n",
       "  'citi®',\n",
       "  'online',\n",
       "  'activity',\n",
       "  '-',\n",
       "  'ce.sandoval09@gmail.com',\n",
       "  '-',\n",
       "  'gmail'],\n",
       " ['browsinghistoryview', '2.00', 'free', 'download'],\n",
       " ['-bash:', 'jupyter:', 'command', 'not', 'found', '-', 'google', 'search'],\n",
       " ['nltk', 'download', '-', 'google', 'search'],\n",
       " ['parse_history.py', '(editing)']]"
      ]
     },
     "execution_count": 22,
     "metadata": {},
     "output_type": "execute_result"
    }
   ],
   "source": [
    "[word.lower().split(' ') for word in clean_titles]"
   ]
  },
  {
   "cell_type": "code",
   "execution_count": 24,
   "metadata": {},
   "outputs": [],
   "source": [
    "titles = title_dict.values()\n",
    "\n",
    "clean_titles = []\n",
    "for ctitle in titles:\n",
    "    if ctitle != None:\n",
    "        clean_titles.append(ctitle)\n",
    "dictionary = corpora.Dictionary([word.lower().split(' ') for word in clean_titles])\n",
    "browsing_titles = [word.lower().split(' ') for word in clean_titles]"
   ]
  },
  {
   "cell_type": "code",
   "execution_count": 26,
   "metadata": {},
   "outputs": [],
   "source": [
    "with open(\"wordsEn.txt\") as word_file:\n",
    "    english_words = set(word.strip().lower() for word in word_file)\n",
    "\n",
    "def is_english_word(word):\n",
    "    return word.lower() in english_words\n",
    "\n",
    "only_english_ids = [word[1] for word in dictionary.token2id.items() if not is_english_word(word[0])]      "
   ]
  },
  {
   "cell_type": "code",
   "execution_count": 28,
   "metadata": {
    "scrolled": true
   },
   "outputs": [],
   "source": [
    "# get a list of stop words from the nltk library\n",
    "stoplist = stopwords.words('english')\n",
    "\n",
    "# DICTERATOR: remove stop words and words that appear only once \n",
    "stop_ids = [dictionary.token2id[stopword] for stopword in stoplist if stopword in dictionary.token2id]\n",
    "once_ids = [tokenid for tokenid, docfreq in dictionary.dfs.items() if docfreq == 1]\n",
    "\n",
    "# filter the tokens from the corpora dict\n",
    "dictionary.filter_tokens(stop_ids + once_ids + only_english_ids)"
   ]
  },
  {
   "cell_type": "code",
   "execution_count": 29,
   "metadata": {},
   "outputs": [
    {
     "data": {
      "text/plain": [
       "<gensim.corpora.dictionary.Dictionary at 0x1a31075320>"
      ]
     },
     "execution_count": 29,
     "metadata": {},
     "output_type": "execute_result"
    }
   ],
   "source": [
    "# remove gaps in id sequence after words that were removed\n",
    "dictionary.compactify() \n",
    "dictionary"
   ]
  },
  {
   "cell_type": "code",
   "execution_count": 30,
   "metadata": {},
   "outputs": [],
   "source": [
    "# given a dictionary and a list of ids, get the words that correspond to the ids\n",
    "def get_singles(dictionary, ids):\n",
    "    for word_id in ids:\n",
    "        yield dictionary.get(word_id)\n",
    "\n",
    "# eliminate the words that appear only once        \n",
    "def filter_singles(singles, texts):\n",
    "    for text in texts:\n",
    "        new_list = []\n",
    "        for word in text:\n",
    "            if word not in singles:\n",
    "                new_list.append(word)\n",
    "        yield new_list"
   ]
  },
  {
   "cell_type": "code",
   "execution_count": 33,
   "metadata": {},
   "outputs": [],
   "source": [
    "singles = get_singles(dictionary, once_ids)\n",
    "filtered_texts = filter_singles(singles, [word.lower().split(' ') for word in clean_titles])"
   ]
  },
  {
   "cell_type": "code",
   "execution_count": 34,
   "metadata": {},
   "outputs": [],
   "source": [
    "# # Create Bag of words\n",
    "mm = [dictionary.doc2bow(text) for text in filtered_texts]"
   ]
  },
  {
   "cell_type": "code",
   "execution_count": 35,
   "metadata": {},
   "outputs": [],
   "source": [
    "# define the number of topics for the classification\n",
    "num_topics = 10\n",
    "\n",
    "# Trains the LDA models with the corpus and dictionary previously created\n",
    "lda = models.ldamodel.LdaModel(corpus=list(mm), id2word=dictionary, num_topics=num_topics, \n",
    "                               update_every=1, chunksize=10000, passes=10, iterations=50)"
   ]
  },
  {
   "cell_type": "code",
   "execution_count": 36,
   "metadata": {
    "scrolled": true
   },
   "outputs": [
    {
     "data": {
      "text/plain": [
       "[(0,\n",
       "  '0.090*\"google\" + 0.085*\"contact\" + 0.082*\"home\" + 0.069*\"maps\" + 0.056*\"washington\" + 0.042*\"credit\" + 0.042*\"us\" + 0.042*\"news\" + 0.038*\"school\" + 0.029*\"security\" + 0.029*\"posts\" + 0.029*\"brochures\" + 0.029*\"forms\" + 0.029*\"card\" + 0.029*\"world\" + 0.029*\"architecture\" + 0.029*\"cards\" + 0.029*\"two\" + 0.015*\"page\" + 0.015*\"stockholm\" + 0.003*\"search\" + 0.002*\"issue\" + 0.002*\"user\" + 0.002*\"something\" + 0.002*\"text\"'),\n",
       " (1,\n",
       "  '0.177*\"ticket\" + 0.177*\"sales\" + 0.089*\"information\" + 0.045*\"facebook\" + 0.045*\"notebook\" + 0.034*\"account\" + 0.031*\"health\" + 0.031*\"payments\" + 0.030*\"find\" + 0.026*\"open\" + 0.016*\"guide\" + 0.016*\"framework\" + 0.016*\"engineering\" + 0.016*\"documentation\" + 0.016*\"insurance\" + 0.016*\"stockholm\" + 0.016*\"data\" + 0.016*\"services\" + 0.004*\"search\" + 0.002*\"google\" + 0.002*\"tax\" + 0.002*\"banking\" + 0.002*\"documentary\" + 0.002*\"april\" + 0.002*\"details\"'),\n",
       " (2,\n",
       "  '0.104*\"climbing\" + 0.095*\"ice\" + 0.060*\"stack\" + 0.060*\"overflow\" + 0.060*\"last\" + 0.048*\"trip\" + 0.036*\"command\" + 0.036*\"issue\" + 0.036*\"files\" + 0.025*\"download\" + 0.025*\"notebook\" + 0.025*\"student\" + 0.025*\"chase\" + 0.024*\"user\" + 0.024*\"something\" + 0.024*\"work\" + 0.013*\"documentation\" + 0.013*\"open\" + 0.013*\"use\" + 0.013*\"python\" + 0.013*\"anaconda\" + 0.013*\"continuum\" + 0.013*\"guide\" + 0.013*\"health\" + 0.013*\"engagement\"'),\n",
       " (3,\n",
       "  '0.087*\"sign\" + 0.072*\"campgrounds\" + 0.072*\"yosemite\" + 0.072*\"moments\" + 0.072*\"buses\" + 0.055*\"medical\" + 0.037*\"google\" + 0.037*\"credit\" + 0.037*\"calendar\" + 0.037*\"week\" + 0.037*\"watchers\" + 0.037*\"offers\" + 0.036*\"students\" + 0.033*\"tax\" + 0.019*\"card\" + 0.019*\"loans\" + 0.019*\"new\" + 0.003*\"america\" + 0.003*\"bank\" + 0.002*\"climbing\" + 0.002*\"ice\" + 0.002*\"search\" + 0.002*\"information\" + 0.002*\"contact\" + 0.002*\"files\"'),\n",
       " (4,\n",
       "  '0.134*\"data\" + 0.100*\"painting\" + 0.068*\"job\" + 0.068*\"messenger\" + 0.067*\"register\" + 0.067*\"gabriel\" + 0.051*\"opportunities\" + 0.051*\"office\" + 0.051*\"center\" + 0.031*\"harvard\" + 0.018*\"use\" + 0.018*\"loans\" + 0.018*\"issue\" + 0.018*\"documentation\" + 0.016*\"banking\" + 0.015*\"contact\" + 0.002*\"payroll\" + 0.002*\"new\" + 0.002*\"sign\" + 0.002*\"credit\" + 0.002*\"bank\" + 0.002*\"april\" + 0.002*\"offers\" + 0.002*\"card\" + 0.002*\"moments\"'),\n",
       " (5,\n",
       "  '0.087*\"new\" + 0.068*\"library\" + 0.063*\"design\" + 0.046*\"documentation\" + 0.046*\"first\" + 0.046*\"generative\" + 0.046*\"designers\" + 0.046*\"platform\" + 0.046*\"agnostic\" + 0.046*\"free\" + 0.046*\"opening\" + 0.046*\"face\" + 0.046*\"documentary\" + 0.024*\"download\" + 0.024*\"python\" + 0.003*\"confirmation\" + 0.003*\"sales\" + 0.003*\"ticket\" + 0.002*\"gabriel\" + 0.002*\"open\" + 0.002*\"list\" + 0.002*\"harvard\" + 0.002*\"school\" + 0.002*\"center\" + 0.002*\"april\"'),\n",
       " (6,\n",
       "  '0.110*\"banking\" + 0.095*\"bank\" + 0.085*\"tax\" + 0.069*\"welcome\" + 0.068*\"america\" + 0.042*\"accounts\" + 0.042*\"repositories\" + 0.039*\"account\" + 0.028*\"engagement\" + 0.028*\"web\" + 0.028*\"free\" + 0.028*\"income\" + 0.028*\"preparation\" + 0.028*\"returns\" + 0.028*\"window\" + 0.028*\"list\" + 0.028*\"details\" + 0.015*\"activity\" + 0.015*\"view\" + 0.002*\"search\" + 0.002*\"climbing\" + 0.002*\"home\" + 0.002*\"face\" + 0.001*\"google\" + 0.001*\"ice\"'),\n",
       " (7,\n",
       "  '0.115*\"community\" + 0.100*\"blue\" + 0.083*\"support\" + 0.061*\"export\" + 0.051*\"browser\" + 0.051*\"shield\" + 0.051*\"massachusetts\" + 0.051*\"cross\" + 0.034*\"message\" + 0.034*\"import\" + 0.018*\"health\" + 0.018*\"view\" + 0.018*\"list\" + 0.018*\"insurance\" + 0.018*\"continuum\" + 0.018*\"anaconda\" + 0.018*\"documentation\" + 0.018*\"super\" + 0.018*\"page\" + 0.007*\"open\" + 0.004*\"sign\" + 0.004*\"new\" + 0.003*\"students\" + 0.002*\"history\" + 0.002*\"engagement\"'),\n",
       " (8,\n",
       "  '0.178*\"history\" + 0.173*\"search\" + 0.143*\"google\" + 0.100*\"export\" + 0.073*\"browsing\" + 0.029*\"safari\" + 0.029*\"save\" + 0.022*\"chrome\" + 0.021*\"text\" + 0.021*\"payroll\" + 0.015*\"super\" + 0.015*\"user\" + 0.015*\"dial\" + 0.015*\"stargazers\" + 0.015*\"browser\" + 0.015*\"forums\" + 0.015*\"download\" + 0.008*\"security\" + 0.008*\"web\" + 0.003*\"school\" + 0.002*\"harvard\" + 0.002*\"design\" + 0.001*\"support\" + 0.001*\"communities\" + 0.001*\"apple\"'),\n",
       " (9,\n",
       "  '0.074*\"first\" + 0.073*\"support\" + 0.059*\"tickets\" + 0.059*\"april\" + 0.059*\"official\" + 0.054*\"browsing\" + 0.045*\"outlook\" + 0.045*\"confirmation\" + 0.044*\"apple\" + 0.044*\"communities\" + 0.038*\"history\" + 0.031*\"community\" + 0.030*\"settings\" + 0.030*\"boston\" + 0.030*\"print\" + 0.030*\"patty\" + 0.016*\"web\" + 0.016*\"engineering\" + 0.016*\"framework\" + 0.016*\"activity\" + 0.016*\"data\" + 0.004*\"climbing\" + 0.002*\"ice\" + 0.002*\"trip\" + 0.002*\"last\"')]"
      ]
     },
     "execution_count": 36,
     "metadata": {},
     "output_type": "execute_result"
    }
   ],
   "source": [
    "# prints all groups and their main words\n",
    "lda.print_topics(num_topics=num_topics, num_words=25)"
   ]
  },
  {
   "cell_type": "code",
   "execution_count": 37,
   "metadata": {},
   "outputs": [],
   "source": [
    "# get a list of processed topics obtained by training an LDA model, and return them as individual lists of topics and frequencies\n",
    "def parse_topics(filepath):\n",
    "    with open(filepath, 'rU') as f:\n",
    "        reader = list(csv.reader(f))\n",
    "        header = reader[0]\n",
    "        reader.pop(0)\n",
    "        topics = []\n",
    "        freqs = []\n",
    "        for row in reader:\n",
    "            freq = []\n",
    "            topic = []\n",
    "            row.pop(0)\n",
    "            for ind, element in enumerate(row):\n",
    "                if ind%2 == 0:\n",
    "                    try: \n",
    "                        fr = row[ind+1]\n",
    "                    except: \n",
    "                        fr = ''\n",
    "                    if fr != '':\n",
    "                        topic.append(element)\n",
    "                        freq.append(row[ind+1])\n",
    "            topics.append(topic)\n",
    "            freqs.append(freq)\n",
    "        return topics, freqs"
   ]
  },
  {
   "cell_type": "code",
   "execution_count": 40,
   "metadata": {},
   "outputs": [
    {
     "name": "stderr",
     "output_type": "stream",
     "text": [
      "/anaconda3/lib/python3.5/site-packages/ipykernel_launcher.py:3: DeprecationWarning: 'U' mode is deprecated\n",
      "  This is separate from the ipykernel package so we can avoid doing imports until\n"
     ]
    },
    {
     "data": {
      "text/plain": [
       "([['Travel', 'Mail'], ['Travel', 'Mail']], [['0.5', '0.25'], ['0.2', '0.5']])"
      ]
     },
     "execution_count": 40,
     "metadata": {},
     "output_type": "execute_result"
    }
   ],
   "source": [
    "topics, frequencies = parse_topics('knowledge_topic_classification.csv')\n",
    "topics, frequencies"
   ]
  },
  {
   "cell_type": "code",
   "execution_count": 41,
   "metadata": {},
   "outputs": [],
   "source": [
    "# Assigns the topics to the documents in corpus\n",
    "lda_corpus = lda[mm]\n",
    "threshold = 1/float(num_topics)"
   ]
  },
  {
   "cell_type": "code",
   "execution_count": 42,
   "metadata": {},
   "outputs": [
    {
     "data": {
      "text/plain": [
       "[['Travel', 'Mail'], ['Travel', 'Mail']]"
      ]
     },
     "execution_count": 42,
     "metadata": {},
     "output_type": "execute_result"
    }
   ],
   "source": [
    "topics"
   ]
  },
  {
   "cell_type": "code",
   "execution_count": 34,
   "metadata": {
    "collapsed": true
   },
   "outputs": [],
   "source": [
    "# given a corpus trained with the LDA classifier, and a threshold, classify the browsing history into the groups \n",
    "def classify(lda_corpus, texts, cluster_num, threshold, words=None, frequencies=None):\n",
    "    for i,j in zip(lda_corpus, texts):\n",
    "        try: \n",
    "            if i[cluster_num][1] > threshold :\n",
    "                classified_list = [j, words[cluster_num], frequencies[cluster_num]]\n",
    "                yield classified_list\n",
    "        except: pass"
   ]
  },
  {
   "cell_type": "code",
   "execution_count": 35,
   "metadata": {},
   "outputs": [],
   "source": [
    "# function that takes the topic classification of a given topic, and other data of the topics and writes a new json to be spatially joined\n",
    "def topic_to_json(topic_num, topics, frequencies):\n",
    "    for i, record in enumerate(classify(lda_corpus, clean_titles, topic_num, threshold, topics, frequencies)):  \n",
    "        title, topic, frequency = record\n",
    "        with open('topics/%stopic_history.json' %(str(topic_num)+'_'+str(i)), 'w') as f:\n",
    "            f.write( json.dumps({'id': str(topic_num)+'_'+str(i), 'title':title, 'topic':topic, 'frequency':frequency}))\n",
    "            #print 'wrote tweet %s' %(tid)"
   ]
  },
  {
   "cell_type": "code",
   "execution_count": 36,
   "metadata": {},
   "outputs": [],
   "source": [
    "# for every topic group, write json files for every tweet\n",
    "for topic_num in np.arange(num_topics):#lda_corpus, jsons_to_mm_tuple(twi_path), topic_num, threshold, num_topics): \n",
    "    topic_to_json(topic_num, topics, frequencies)"
   ]
  },
  {
   "cell_type": "code",
   "execution_count": 38,
   "metadata": {},
   "outputs": [
    {
     "data": {
      "text/plain": [
       "{u'Biology': 10, u'Economics': 11, u'History ': 7, u'Physics': 3}"
      ]
     },
     "execution_count": 38,
     "metadata": {},
     "output_type": "execute_result"
    }
   ],
   "source": [
    "from os import listdir\n",
    "from os.path import isfile, join\n",
    "\n",
    "onlyfiles = [f for f in listdir('topics') if isfile(join('topics', f))]\n",
    "count_topics = {}\n",
    "for file in onlyfiles:\n",
    "    if file.endswith('.json'):\n",
    "        with open('topics/'+file, 'r') as f:\n",
    "            curr_record = json.load(f)\n",
    "            curr_topics = curr_record['topic']\n",
    "            for curr_topic in curr_topics:\n",
    "                if curr_topic not in count_topics:\n",
    "                    count_topics[curr_topic] = 0\n",
    "                else: \n",
    "                    count_topics[curr_topic] += 1\n",
    "\n",
    "\n",
    "count_topics"
   ]
  },
  {
   "cell_type": "code",
   "execution_count": 39,
   "metadata": {},
   "outputs": [
    {
     "data": {
      "image/png": "[encoded data removed]",
      "text/plain": [
       "<matplotlib.figure.Figure at 0x1219efd10>"
      ]
     },
     "metadata": {},
     "output_type": "display_data"
    }
   ],
   "source": [
    "import seaborn as sns\n",
    "import matplotlib.pyplot as plt\n",
    "\n",
    "x_vals = count_topics.keys()\n",
    "y_vals = count_topics.values()\n",
    "\n",
    "\n",
    "y_pos = np.arange(len(x_vals))\n",
    " \n",
    "plt.bar(y_pos, y_vals, align='center', alpha=0.5)\n",
    "plt.xticks(y_pos, x_vals)\n",
    "plt.ylabel('Number of Ocurrences')\n",
    "plt.title('Domains of Knowledge')\n",
    " \n",
    "plt.show()"
   ]
  },
  {
   "cell_type": "code",
   "execution_count": null,
   "metadata": {
    "collapsed": true
   },
   "outputs": [],
   "source": []
  }
 ],
 "metadata": {
  "kernelspec": {
   "display_name": "Python 3",
   "language": "python",
   "name": "python3"
  },
  "language_info": {
   "codemirror_mode": {
    "name": "ipython",
    "version": 3
   },
   "file_extension": ".py",
   "mimetype": "text/x-python",
   "name": "python",
   "nbconvert_exporter": "python",
   "pygments_lexer": "ipython3",
   "version": "3.5.5"
  }
 },
 "nbformat": 4,
 "nbformat_minor": 2
}
